{
 "cells": [
  {
   "cell_type": "code",
   "execution_count": 1,
   "id": "29180a36",
   "metadata": {},
   "outputs": [],
   "source": [
    "import pandas as pd\n",
    "import numpy as np\n",
    "import matplotlib.pyplot as plt\n",
    "from datetime import datetime\n",
    "import seaborn as sns\n",
    "from itertools import product\n",
    "import warnings\n",
    "import statsmodels.api as sm\n",
    "from statsmodels.tsa.arima_model import ARIMA\n",
    "from statsmodels.tsa.stattools import adfuller\n",
    "from statsmodels.tsa.stattools import kpss\n",
    "from sklearn.model_selection import train_test_split\n"
   ]
  },
  {
   "cell_type": "code",
   "execution_count": 5,
   "id": "a429738d",
   "metadata": {},
   "outputs": [
    {
     "name": "stdout",
     "output_type": "stream",
     "text": [
      "<class 'pandas.core.frame.DataFrame'>\n",
      "RangeIndex: 34497 entries, 0 to 34496\n",
      "Data columns (total 8 columns):\n",
      " #   Column          Non-Null Count  Dtype  \n",
      "---  ------          --------------  -----  \n",
      " 0   Unix Timestamp  34497 non-null  int64  \n",
      " 1   Date            34497 non-null  object \n",
      " 2   Symbol          34497 non-null  object \n",
      " 3   Open            34497 non-null  float64\n",
      " 4   High            34497 non-null  float64\n",
      " 5   Low             34497 non-null  float64\n",
      " 6   Close           34497 non-null  float64\n",
      " 7   Volume          34497 non-null  float64\n",
      "dtypes: float64(5), int64(1), object(2)\n",
      "memory usage: 2.1+ MB\n",
      "None\n",
      "   Unix Timestamp                 Date  Symbol    Open    High     Low  \\\n",
      "0   1586995200000  2020-04-16 00:00:00  ETHUSD  152.94  152.94  150.39   \n",
      "1   1586991600000  2020-04-15 23:00:00  ETHUSD  155.81  155.81  151.39   \n",
      "2   1586988000000  2020-04-15 22:00:00  ETHUSD  157.18  157.30  155.32   \n",
      "3   1586984400000  2020-04-15 21:00:00  ETHUSD  158.04  158.31  157.16   \n",
      "4   1586980800000  2020-04-15 20:00:00  ETHUSD  157.10  158.10  156.87   \n",
      "\n",
      "    Close       Volume  \n",
      "0  150.39   650.188125  \n",
      "1  152.94  4277.567299  \n",
      "2  155.81   106.337279  \n",
      "3  157.18    55.244131  \n",
      "4  158.04   144.262622  \n"
     ]
    }
   ],
   "source": [
    "df= pd.read_csv('ETH_1H.csv')\n",
    "print(df.info())\n",
    "print(df.head())\n",
    "yt,yf=train_test_split(df.Close,shuffle=False,test_size=0.3)"
   ]
  },
  {
   "cell_type": "code",
   "execution_count": 6,
   "id": "e8c4b893",
   "metadata": {},
   "outputs": [
    {
     "data": {
      "text/plain": [
       "0    150.39\n",
       "1    152.94\n",
       "2    155.81\n",
       "3    157.18\n",
       "4    158.04\n",
       "Name: Close, dtype: float64"
      ]
     },
     "execution_count": 6,
     "metadata": {},
     "output_type": "execute_result"
    }
   ],
   "source": [
    "yt.head()"
   ]
  },
  {
   "cell_type": "code",
   "execution_count": 7,
   "id": "ea1d9acc",
   "metadata": {},
   "outputs": [],
   "source": [
    "df['Date'] = pd.to_datetime(df['Date'])\n",
    "df['Month']=df['Date'].dt.month\n",
    "df['Day']=df['Date'].dt.day\n",
    "df['Year']=df['Date'].dt.year\n",
    "df['Hour']=df['Date'].dt.hour\n",
    "df['Minute']=df['Date'].dt.minute\n",
    "df['Second']=df['Date'].dt.second"
   ]
  },
  {
   "cell_type": "code",
   "execution_count": 8,
   "id": "388b369b",
   "metadata": {},
   "outputs": [
    {
     "name": "stdout",
     "output_type": "stream",
     "text": [
      "train shape : (24147,)\n",
      "validation shape : (10350,)\n"
     ]
    }
   ],
   "source": [
    "df_train,df_test=train_test_split(df.Close,shuffle=False,test_size=0.3)\n",
    " \n",
    "print('train shape :', df_train.shape)\n",
    "print('validation shape :', df_test.shape)"
   ]
  },
  {
   "cell_type": "code",
   "execution_count": 9,
   "id": "5396361f",
   "metadata": {},
   "outputs": [],
   "source": [
    "df[\"Close_LogT\"]= np.log(df['Close'])\n",
    "def differencing(dataset):\n",
    "    diff_close=[]\n",
    "    for i in range(0,len(dataset)):\n",
    "        if i==0:\n",
    "            diff_close.append(df.Close_LogT[0])\n",
    "        else:\n",
    "            value= dataset[i]-dataset[i-1]\n",
    "            diff_close.append(value)\n",
    "    return diff_close\n",
    "\n",
    "df[\"Differential_close\"]=differencing(df.Close_LogT)"
   ]
  },
  {
   "cell_type": "code",
   "execution_count": 10,
   "id": "0de994d6",
   "metadata": {},
   "outputs": [
    {
     "data": {
      "text/plain": [
       "<matplotlib.legend.Legend at 0x7fcb41875460>"
      ]
     },
     "execution_count": 10,
     "metadata": {},
     "output_type": "execute_result"
    },
    {
     "data": {
      "image/png": "[encoded data removed]",
      "text/plain": [
       "<Figure size 432x288 with 1 Axes>"
      ]
     },
     "metadata": {
      "needs_background": "light"
     },
     "output_type": "display_data"
    }
   ],
   "source": [
    "Rolling_average = df[\"Close_LogT\"].rolling(window = 7, center= False).mean()\n",
    "plt.plot(df[\"Close_LogT\"], label = 'Transformed')\n",
    "plt.plot(Rolling_average, color = 'red', label = 'Rolling Average')\n",
    "plt.legend(loc = 'best')"
   ]
  },
  {
   "cell_type": "code",
   "execution_count": 11,
   "id": "fd8293fa",
   "metadata": {},
   "outputs": [
    {
     "data": {
      "text/plain": [
       "0          NaN\n",
       "1          NaN\n",
       "2          NaN\n",
       "3          NaN\n",
       "4          NaN\n",
       "5          NaN\n",
       "6     0.014025\n",
       "7     0.005541\n",
       "8    -0.000600\n",
       "9    -0.008973\n",
       "10   -0.000546\n",
       "11   -0.002717\n",
       "12   -0.002837\n",
       "13    0.003770\n",
       "14    0.005103\n",
       "Name: Close_LogT, dtype: float64"
      ]
     },
     "execution_count": 11,
     "metadata": {},
     "output_type": "execute_result"
    }
   ],
   "source": [
    "log_Rolling_difference= df[\"Close_LogT\"] - Rolling_average\n",
    "\n",
    "log_Rolling_difference.head(15)"
   ]
  },
  {
   "cell_type": "code",
   "execution_count": 12,
   "id": "da017a5b",
   "metadata": {},
   "outputs": [
    {
     "data": {
      "text/plain": [
       "6     0.014025\n",
       "7     0.005541\n",
       "8    -0.000600\n",
       "9    -0.008973\n",
       "10   -0.000546\n",
       "Name: Close_LogT, dtype: float64"
      ]
     },
     "execution_count": 12,
     "metadata": {},
     "output_type": "execute_result"
    }
   ],
   "source": [
    "log_Rolling_difference.dropna(axis=0,inplace=True)\n",
    "log_Rolling_difference.head()"
   ]
  },
  {
   "cell_type": "code",
   "execution_count": 13,
   "id": "b9403f04",
   "metadata": {},
   "outputs": [],
   "source": [
    "def ADF_Cal(x):\n",
    "    result = adfuller(x)\n",
    "    print(\"ADF Statistic: %f\" %result[0])\n",
    "    print('p-value: %f' % result[1])\n",
    "    print('Critical Values:')\n",
    "    for key, value in result[4].items():\n",
    "        print('\\t%s: %.3f' % (key, value))\n",
    "\n",
    "\n",
    "def kpss_test(timeseries):\n",
    "    print ('Results of KPSS Test:')\n",
    "    kpsstest = kpss(timeseries, regression='c', nlags=\"auto\")\n",
    "    kpss_output = pd.Series(kpsstest[0:3], index=['Test Statistic','p-value','Lags Used'])\n",
    "    for key,value in kpsstest[3].items():\n",
    "        kpss_output['Critical Value (%s)'%key] = value\n",
    "    print (kpss_output)"
   ]
  },
  {
   "cell_type": "code",
   "execution_count": 14,
   "id": "5b45f57f",
   "metadata": {},
   "outputs": [
    {
     "name": "stdout",
     "output_type": "stream",
     "text": [
      "ADF Statistic: -30.973650\n",
      "p-value: 0.000000\n",
      "Critical Values:\n",
      "\t1%: -3.431\n",
      "\t5%: -2.862\n",
      "\t10%: -2.567\n"
     ]
    }
   ],
   "source": [
    "ADF_Cal(log_Rolling_difference)\n"
   ]
  },
  {
   "cell_type": "code",
   "execution_count": 15,
   "id": "20dbb8ba",
   "metadata": {},
   "outputs": [
    {
     "name": "stdout",
     "output_type": "stream",
     "text": [
      "Results of KPSS Test:\n",
      "Test Statistic            0.534718\n",
      "p-value                   0.033847\n",
      "Lags Used                55.000000\n",
      "Critical Value (10%)      0.347000\n",
      "Critical Value (5%)       0.463000\n",
      "Critical Value (2.5%)     0.574000\n",
      "Critical Value (1%)       0.739000\n",
      "dtype: float64\n"
     ]
    }
   ],
   "source": [
    "kpss_test(log_Rolling_difference)"
   ]
  },
  {
   "cell_type": "code",
   "execution_count": 16,
   "id": "43a3f7c0",
   "metadata": {},
   "outputs": [
    {
     "data": {
      "image/png": "[encoded data removed]",
      "text/plain": [
       "<Figure size 432x288 with 4 Axes>"
      ]
     },
     "metadata": {
      "needs_background": "light"
     },
     "output_type": "display_data"
    }
   ],
   "source": [
    "from statsmodels.tsa.seasonal import seasonal_decompose\n",
    "from statsmodels.tsa.seasonal import STL\n",
    "decomposition = seasonal_decompose(df[\"Close_LogT\"], period=7)\n",
    "\n",
    "trend = decomposition.trend\n",
    "seasonal = decomposition.seasonal\n",
    "residual = decomposition.resid\n",
    "\n",
    "plt.subplot(411)\n",
    "plt.plot(df[\"Close_LogT\"], label='Original')\n",
    "plt.legend(loc='best')\n",
    "plt.subplot(412)\n",
    "plt.plot(trend, label='Trend')\n",
    "plt.legend(loc='best')\n",
    "plt.subplot(413)\n",
    "plt.plot(seasonal,label='Seasonality')\n",
    "plt.legend(loc='best')\n",
    "plt.subplot(414)\n",
    "plt.plot(residual, label='Residuals')\n",
    "plt.legend(loc='best')\n",
    "plt.tight_layout()"
   ]
  },
  {
   "cell_type": "code",
   "execution_count": 17,
   "id": "245f7ff5",
   "metadata": {},
   "outputs": [
    {
     "name": "stderr",
     "output_type": "stream",
     "text": [
      "/Users/sagartripathi/opt/anaconda3/lib/python3.9/site-packages/statsmodels/tsa/stattools.py:667: FutureWarning: fft=True will become the default after the release of the 0.12 release of statsmodels. To suppress this warning, explicitly set fft=False.\n",
      "  warnings.warn(\n"
     ]
    }
   ],
   "source": [
    "from statsmodels.tsa.stattools import acf, pacf\n",
    "\n",
    "#ACF and PACF plots:\n",
    "lag_acf = acf(log_Rolling_difference, nlags=100)\n",
    "lag_pacf = pacf(log_Rolling_difference, nlags=100, method='ols')"
   ]
  },
  {
   "cell_type": "code",
   "execution_count": 18,
   "id": "506fb05c",
   "metadata": {},
   "outputs": [
    {
     "data": {
      "text/plain": [
       "Text(0.5, 1.0, 'Autocorrelation Function')"
      ]
     },
     "execution_count": 18,
     "metadata": {},
     "output_type": "execute_result"
    },
    {
     "data": {
      "image/png": "[encoded data removed]",
      "text/plain": [
       "<Figure size 432x288 with 1 Axes>"
      ]
     },
     "metadata": {
      "needs_background": "light"
     },
     "output_type": "display_data"
    }
   ],
   "source": [
    "#Plot ACF: \n",
    "plt.subplot(121) \n",
    "plt.plot(lag_acf)\n",
    "plt.axhline(y=0,linestyle='--',color='gray')\n",
    "plt.axhline(y=-1.96/np.sqrt(len(log_Rolling_difference)),linestyle='--',color='gray')\n",
    "plt.axhline(y=1.96/np.sqrt(len(log_Rolling_difference)),linestyle='--',color='gray')\n",
    "plt.title('Autocorrelation Function')"
   ]
  },
  {
   "cell_type": "code",
   "execution_count": 19,
   "id": "a270a276",
   "metadata": {},
   "outputs": [
    {
     "data": {
      "image/png": "[encoded data removed]",
      "text/plain": [
       "<Figure size 432x288 with 1 Axes>"
      ]
     },
     "metadata": {
      "needs_background": "light"
     },
     "output_type": "display_data"
    }
   ],
   "source": [
    "#Plot PACF:\n",
    "plt.subplot(122)\n",
    "plt.plot(lag_pacf)\n",
    "plt.axhline(y=0,linestyle='--',color='gray')\n",
    "plt.axhline(y=-1.96/np.sqrt(len(log_Rolling_difference)),linestyle='--',color='gray')\n",
    "plt.axhline(y=1.96/np.sqrt(len(log_Rolling_difference)),linestyle='--',color='gray')\n",
    "plt.title('Partial Autocorrelation Function')\n",
    "plt.tight_layout()"
   ]
  },
  {
   "cell_type": "code",
   "execution_count": 20,
   "id": "de618fdb",
   "metadata": {},
   "outputs": [],
   "source": [
    "from statsmodels.tsa.arima_model import ARIMA"
   ]
  },
  {
   "cell_type": "code",
   "execution_count": 21,
   "id": "a11f8861",
   "metadata": {},
   "outputs": [],
   "source": [
    "log_Rolling_difference = log_Rolling_difference.fillna(0)"
   ]
  },
  {
   "cell_type": "code",
   "execution_count": 22,
   "id": "39cf1514",
   "metadata": {},
   "outputs": [
    {
     "name": "stderr",
     "output_type": "stream",
     "text": [
      "/Users/sagartripathi/opt/anaconda3/lib/python3.9/site-packages/statsmodels/tsa/arima_model.py:472: FutureWarning: \n",
      "statsmodels.tsa.arima_model.ARMA and statsmodels.tsa.arima_model.ARIMA have\n",
      "been deprecated in favor of statsmodels.tsa.arima.model.ARIMA (note the .\n",
      "between arima and model) and\n",
      "statsmodels.tsa.SARIMAX. These will be removed after the 0.12 release.\n",
      "\n",
      "statsmodels.tsa.arima.model.ARIMA makes use of the statespace framework and\n",
      "is both well tested and maintained.\n",
      "\n",
      "To silence this warning and continue using ARMA and ARIMA until they are\n",
      "removed, use:\n",
      "\n",
      "import warnings\n",
      "warnings.filterwarnings('ignore', 'statsmodels.tsa.arima_model.ARMA',\n",
      "                        FutureWarning)\n",
      "warnings.filterwarnings('ignore', 'statsmodels.tsa.arima_model.ARIMA',\n",
      "                        FutureWarning)\n",
      "\n",
      "  warnings.warn(ARIMA_DEPRECATION_WARN, FutureWarning)\n"
     ]
    },
    {
     "data": {
      "text/plain": [
       "<matplotlib.legend.Legend at 0x7fcb00ecd460>"
      ]
     },
     "execution_count": 22,
     "metadata": {},
     "output_type": "execute_result"
    },
    {
     "data": {
      "image/png": "[encoded data removed]",
      "text/plain": [
       "<Figure size 432x288 with 1 Axes>"
      ]
     },
     "metadata": {
      "needs_background": "light"
     },
     "output_type": "display_data"
    }
   ],
   "source": [
    "model = ARIMA(df[\"Close_LogT\"], order=(3, 1, 0))  \n",
    "results_AR = model.fit(disp=-1)  \n",
    "plt.plot(log_Rolling_difference, label ='Close')\n",
    "plt.plot(results_AR.fittedvalues, color='red', label = 'order 3')\n",
    "RSS = results_AR.fittedvalues-log_Rolling_difference\n",
    "RSS.dropna(inplace=True)\n",
    "plt.title('RSS: %.4f'% sum(RSS**2))\n",
    "plt.legend(loc = 'best')"
   ]
  },
  {
   "cell_type": "code",
   "execution_count": 23,
   "id": "17d456b4",
   "metadata": {},
   "outputs": [
    {
     "data": {
      "text/plain": [
       "Text(0.5, 1.0, 'RSS: 10.4096')"
      ]
     },
     "execution_count": 23,
     "metadata": {},
     "output_type": "execute_result"
    },
    {
     "data": {
      "image/png": "[encoded data removed]",
      "text/plain": [
       "<Figure size 432x288 with 1 Axes>"
      ]
     },
     "metadata": {
      "needs_background": "light"
     },
     "output_type": "display_data"
    }
   ],
   "source": [
    "#MA model\n",
    "model = ARIMA(df[\"Close_LogT\"], order=(0, 1,18)) \n",
    "results_MA = model.fit(disp=-1)  \n",
    "plt.plot(log_Rolling_difference)\n",
    "plt.plot(results_MA.fittedvalues, color='red')\n",
    "RSS = results_MA.fittedvalues-log_Rolling_difference\n",
    "RSS.dropna(inplace=True)\n",
    "plt.title('RSS: %.4f'% sum(RSS**2))"
   ]
  },
  {
   "cell_type": "code",
   "execution_count": 24,
   "id": "9e0d2ba0",
   "metadata": {},
   "outputs": [
    {
     "name": "stdout",
     "output_type": "stream",
     "text": [
      "                             ARIMA Model Results                              \n",
      "==============================================================================\n",
      "Dep. Variable:           D.Close_LogT   No. Observations:                34496\n",
      "Model:                ARIMA(0, 1, 18)   Log Likelihood              100063.071\n",
      "Method:                       css-mle   S.D. of innovations              0.013\n",
      "Date:                Wed, 04 May 2022   AIC                        -200086.143\n",
      "Time:                        11:15:46   BIC                        -199917.171\n",
      "Sample:                             1   HQIC                       -200032.284\n",
      "                                                                              \n",
      "=======================================================================================\n",
      "                          coef    std err          z      P>|z|      [0.025      0.975]\n",
      "---------------------------------------------------------------------------------------\n",
      "const               -7.942e-05   7.19e-05     -1.105      0.269      -0.000    6.14e-05\n",
      "ma.L1.D.Close_LogT     -0.1003      0.005    -18.630      0.000      -0.111      -0.090\n",
      "ma.L2.D.Close_LogT     -0.0382      0.005     -7.064      0.000      -0.049      -0.028\n",
      "ma.L3.D.Close_LogT     -0.0161      0.005     -2.974      0.003      -0.027      -0.005\n",
      "ma.L4.D.Close_LogT      0.0083      0.005      1.532      0.125      -0.002       0.019\n",
      "ma.L5.D.Close_LogT     -0.0052      0.005     -0.961      0.336      -0.016       0.005\n",
      "ma.L6.D.Close_LogT     -0.0156      0.005     -2.869      0.004      -0.026      -0.005\n",
      "ma.L7.D.Close_LogT      0.0131      0.005      2.416      0.016       0.002       0.024\n",
      "ma.L8.D.Close_LogT      0.0025      0.005      0.462      0.644      -0.008       0.013\n",
      "ma.L9.D.Close_LogT      0.0216      0.005      3.950      0.000       0.011       0.032\n",
      "ma.L10.D.Close_LogT     0.0099      0.005      1.831      0.067      -0.001       0.020\n",
      "ma.L11.D.Close_LogT     0.0082      0.005      1.510      0.131      -0.002       0.019\n",
      "ma.L12.D.Close_LogT     0.0077      0.006      1.367      0.172      -0.003       0.019\n",
      "ma.L13.D.Close_LogT     0.0255      0.006      4.586      0.000       0.015       0.036\n",
      "ma.L14.D.Close_LogT   7.96e-05      0.005      0.015      0.988      -0.011       0.011\n",
      "ma.L15.D.Close_LogT     0.0200      0.006      3.612      0.000       0.009       0.031\n",
      "ma.L16.D.Close_LogT     0.0230      0.005      4.250      0.000       0.012       0.034\n",
      "ma.L17.D.Close_LogT     0.0226      0.005      4.157      0.000       0.012       0.033\n",
      "ma.L18.D.Close_LogT     0.0162      0.005      2.990      0.003       0.006       0.027\n",
      "                                    Roots                                     \n",
      "==============================================================================\n",
      "                   Real          Imaginary           Modulus         Frequency\n",
      "------------------------------------------------------------------------------\n",
      "MA.1             1.1110           -0.2305j            1.1347           -0.0326\n",
      "MA.2             1.1110           +0.2305j            1.1347            0.0326\n",
      "MA.3             1.0060           -0.6360j            1.1901           -0.0897\n",
      "MA.4             1.0060           +0.6360j            1.1901            0.0897\n",
      "MA.5             0.7254           -0.9677j            1.2094           -0.1476\n",
      "MA.6             0.7254           +0.9677j            1.2094            0.1476\n",
      "MA.7             0.3618           -1.1844j            1.2384           -0.2028\n",
      "MA.8             0.3618           +1.1844j            1.2384            0.2028\n",
      "MA.9            -0.1103           -1.2816j            1.2864           -0.2637\n",
      "MA.10           -0.1103           +1.2816j            1.2864            0.2637\n",
      "MA.11           -0.4956           -1.2757j            1.3686           -0.3090\n",
      "MA.12           -0.4956           +1.2757j            1.3686            0.3090\n",
      "MA.13           -0.8066           -0.9744j            1.2650           -0.3600\n",
      "MA.14           -0.8066           +0.9744j            1.2650            0.3600\n",
      "MA.15           -1.1201           -0.6026j            1.2719           -0.4214\n",
      "MA.16           -1.1201           +0.6026j            1.2719            0.4214\n",
      "MA.17           -1.3677           -0.1018j            1.3715           -0.4882\n",
      "MA.18           -1.3677           +0.1018j            1.3715            0.4882\n",
      "------------------------------------------------------------------------------\n"
     ]
    }
   ],
   "source": [
    "print(results_MA.summary())"
   ]
  },
  {
   "cell_type": "code",
   "execution_count": 25,
   "id": "2e281559",
   "metadata": {},
   "outputs": [
    {
     "data": {
      "text/plain": [
       "<matplotlib.legend.Legend at 0x7fcb504cb5b0>"
      ]
     },
     "execution_count": 25,
     "metadata": {},
     "output_type": "execute_result"
    },
    {
     "data": {
      "image/png": "[encoded data removed]",
      "text/plain": [
       "<Figure size 432x288 with 1 Axes>"
      ]
     },
     "metadata": {
      "needs_background": "light"
     },
     "output_type": "display_data"
    }
   ],
   "source": [
    "plt.plot(df[\"Close_LogT\"], label = 'log_tranfromed_data')\n",
    "plt.plot(results_MA.resid, color ='green',label= 'Residuals')\n",
    "plt.title('MA Model Residual plot')\n",
    "plt.legend(loc = 'best')"
   ]
  },
  {
   "cell_type": "code",
   "execution_count": 26,
   "id": "c708fc23",
   "metadata": {},
   "outputs": [
    {
     "name": "stdout",
     "output_type": "stream",
     "text": [
      "count    3.449600e+04\n",
      "mean    -1.234692e-07\n",
      "std      1.330468e-02\n",
      "min     -2.140426e-01\n",
      "25%     -4.205357e-03\n",
      "50%      5.683359e-05\n",
      "75%      4.155372e-03\n",
      "max      2.435922e-01\n",
      "dtype: float64\n"
     ]
    },
    {
     "data": {
      "image/png": "[encoded data removed]",
      "text/plain": [
       "<Figure size 432x288 with 1 Axes>"
      ]
     },
     "metadata": {
      "needs_background": "light"
     },
     "output_type": "display_data"
    }
   ],
   "source": [
    "results_MA.resid.plot(kind='kde')\n",
    "plt.title('Density plot of the residual error values')\n",
    "print(results_MA.resid.describe())"
   ]
  },
  {
   "cell_type": "code",
   "execution_count": 27,
   "id": "044369a7",
   "metadata": {},
   "outputs": [
    {
     "name": "stderr",
     "output_type": "stream",
     "text": [
      "/Users/sagartripathi/opt/anaconda3/lib/python3.9/site-packages/statsmodels/tsa/arima_model.py:472: FutureWarning: \n",
      "statsmodels.tsa.arima_model.ARMA and statsmodels.tsa.arima_model.ARIMA have\n",
      "been deprecated in favor of statsmodels.tsa.arima.model.ARIMA (note the .\n",
      "between arima and model) and\n",
      "statsmodels.tsa.SARIMAX. These will be removed after the 0.12 release.\n",
      "\n",
      "statsmodels.tsa.arima.model.ARIMA makes use of the statespace framework and\n",
      "is both well tested and maintained.\n",
      "\n",
      "To silence this warning and continue using ARMA and ARIMA until they are\n",
      "removed, use:\n",
      "\n",
      "import warnings\n",
      "warnings.filterwarnings('ignore', 'statsmodels.tsa.arima_model.ARMA',\n",
      "                        FutureWarning)\n",
      "warnings.filterwarnings('ignore', 'statsmodels.tsa.arima_model.ARIMA',\n",
      "                        FutureWarning)\n",
      "\n",
      "  warnings.warn(ARIMA_DEPRECATION_WARN, FutureWarning)\n"
     ]
    },
    {
     "data": {
      "text/plain": [
       "<matplotlib.legend.Legend at 0x7fcb42e01280>"
      ]
     },
     "execution_count": 27,
     "metadata": {},
     "output_type": "execute_result"
    },
    {
     "data": {
      "image/png": "[encoded data removed]",
      "text/plain": [
       "<Figure size 432x288 with 1 Axes>"
      ]
     },
     "metadata": {
      "needs_background": "light"
     },
     "output_type": "display_data"
    }
   ],
   "source": [
    "#ARIMA Combined model\n",
    "model = ARIMA(df[\"Close_LogT\"], order=(3, 1, 18))  \n",
    "results_ARIMA = model.fit(trend= 'nc', disp=-1)  \n",
    "plt.plot(log_Rolling_difference)\n",
    "plt.plot(results_ARIMA.fittedvalues, color='red', label = 'p =8, q =18')\n",
    "RSS =results_ARIMA.fittedvalues-log_Rolling_difference\n",
    "RSS.dropna(inplace=True)\n",
    "plt.title('RSS: %.4f'% sum(RSS**2))\n",
    "plt.legend(loc='best')"
   ]
  },
  {
   "cell_type": "code",
   "execution_count": 32,
   "id": "1bf326e4",
   "metadata": {},
   "outputs": [
    {
     "name": "stdout",
     "output_type": "stream",
     "text": [
      "                             ARIMA Model Results                              \n",
      "==============================================================================\n",
      "Dep. Variable:           D.Close_LogT   No. Observations:                34496\n",
      "Model:                ARIMA(3, 1, 18)   Log Likelihood              100101.010\n",
      "Method:                       css-mle   S.D. of innovations              0.013\n",
      "Date:                Wed, 04 May 2022   AIC                        -200158.019\n",
      "Time:                        01:54:38   BIC                        -199972.150\n",
      "Sample:                             1   HQIC                       -200098.775\n",
      "                                                                              \n",
      "=======================================================================================\n",
      "                          coef    std err          z      P>|z|      [0.025      0.975]\n",
      "---------------------------------------------------------------------------------------\n",
      "ar.L1.D.Close_LogT      0.7173      0.028     25.401      0.000       0.662       0.773\n",
      "ar.L2.D.Close_LogT      0.8527      0.016     52.158      0.000       0.821       0.885\n",
      "ar.L3.D.Close_LogT     -0.8482      0.024    -35.117      0.000      -0.896      -0.801\n",
      "ma.L1.D.Close_LogT     -0.8191      0.029    -28.486      0.000      -0.875      -0.763\n",
      "ma.L2.D.Close_LogT     -0.8189      0.017    -47.930      0.000      -0.852      -0.785\n",
      "ma.L3.D.Close_LogT      0.9472      0.027     35.728      0.000       0.895       0.999\n",
      "ma.L4.D.Close_LogT     -0.0327      0.010     -3.285      0.001      -0.052      -0.013\n",
      "ma.L5.D.Close_LogT     -0.0295      0.010     -3.018      0.003      -0.049      -0.010\n",
      "ma.L6.D.Close_LogT     -0.0330      0.010     -3.402      0.001      -0.052      -0.014\n",
      "ma.L7.D.Close_LogT      0.0348      0.010      3.580      0.000       0.016       0.054\n",
      "ma.L8.D.Close_LogT      0.0013      0.010      0.129      0.897      -0.018       0.020\n",
      "ma.L9.D.Close_LogT     -0.0051      0.010     -0.519      0.604      -0.024       0.014\n",
      "ma.L10.D.Close_LogT     0.0036      0.010      0.373      0.709      -0.015       0.023\n",
      "ma.L11.D.Close_LogT    -0.0139      0.010     -1.431      0.153      -0.033       0.005\n",
      "ma.L12.D.Close_LogT     0.0118      0.010      1.195      0.232      -0.008       0.031\n",
      "ma.L13.D.Close_LogT     0.0205      0.010      2.159      0.031       0.002       0.039\n",
      "ma.L14.D.Close_LogT    -0.0178      0.010     -1.841      0.066      -0.037       0.001\n",
      "ma.L15.D.Close_LogT     0.0043      0.010      0.427      0.670      -0.015       0.024\n",
      "ma.L16.D.Close_LogT     0.0313      0.008      3.713      0.000       0.015       0.048\n",
      "ma.L17.D.Close_LogT    -0.0117      0.007     -1.570      0.116      -0.026       0.003\n",
      "ma.L18.D.Close_LogT     0.0038      0.007      0.568      0.570      -0.009       0.017\n",
      "                                    Roots                                     \n",
      "==============================================================================\n",
      "                   Real          Imaginary           Modulus         Frequency\n",
      "------------------------------------------------------------------------------\n",
      "AR.1            -1.0046           -0.0000j            1.0046           -0.5000\n",
      "AR.2             1.0050           -0.4044j            1.0833           -0.0609\n",
      "AR.3             1.0050           +0.4044j            1.0833            0.0609\n",
      "MA.1            -1.0062           -0.0000j            1.0062           -0.5000\n",
      "MA.2            -1.2530           -0.0000j            1.2530           -0.5000\n",
      "MA.3            -1.1623           -0.5978j            1.3070           -0.4244\n",
      "MA.4            -1.1623           +0.5978j            1.3070            0.4244\n",
      "MA.5            -0.7897           -1.0270j            1.2955           -0.3543\n",
      "MA.6            -0.7897           +1.0270j            1.2955            0.3543\n",
      "MA.7             0.9909           -0.4627j            1.0936           -0.0695\n",
      "MA.8             0.9909           +0.4627j            1.0936            0.0695\n",
      "MA.9             1.0828           -0.2756j            1.1174           -0.0397\n",
      "MA.10            1.0828           +0.2756j            1.1174            0.0397\n",
      "MA.11           -0.2446           -1.3090j            1.3317           -0.2794\n",
      "MA.12           -0.2446           +1.3090j            1.3317            0.2794\n",
      "MA.13            0.8798           -0.9885j            1.3233           -0.1343\n",
      "MA.14            0.8798           +0.9885j            1.3233            0.1343\n",
      "MA.15            0.4069           -1.3094j            1.3711           -0.2020\n",
      "MA.16            0.4069           +1.3094j            1.3711            0.2020\n",
      "MA.17            1.4972           -2.4686j            2.8871           -0.1632\n",
      "MA.18            1.4972           +2.4686j            2.8871            0.1632\n",
      "------------------------------------------------------------------------------\n"
     ]
    }
   ],
   "source": [
    "print(results_ARIMA.summary())"
   ]
  },
  {
   "cell_type": "code",
   "execution_count": 29,
   "id": "4a92c47b",
   "metadata": {},
   "outputs": [
    {
     "data": {
      "text/plain": [
       "<matplotlib.legend.Legend at 0x7fcb51115f40>"
      ]
     },
     "execution_count": 29,
     "metadata": {},
     "output_type": "execute_result"
    },
    {
     "data": {
      "image/png": "[encoded data removed]",
      "text/plain": [
       "<Figure size 432x288 with 1 Axes>"
      ]
     },
     "metadata": {
      "needs_background": "light"
     },
     "output_type": "display_data"
    }
   ],
   "source": [
    "plt.plot(df[\"Close_LogT\"], label = 'log_tranfromed_data')\n",
    "plt.plot(results_ARIMA.resid, color ='green',label= 'Residuals')\n",
    "plt.title('ARIMA Model Residual plot')\n",
    "plt.legend(loc = 'best')"
   ]
  },
  {
   "cell_type": "code",
   "execution_count": 30,
   "id": "6ecef3c6",
   "metadata": {},
   "outputs": [
    {
     "name": "stdout",
     "output_type": "stream",
     "text": [
      "count    3.449600e+04\n",
      "mean    -7.976908e-05\n",
      "std      1.328981e-02\n",
      "min     -2.137656e-01\n",
      "25%     -4.312412e-03\n",
      "50%      1.138895e-07\n",
      "75%      4.073177e-03\n",
      "max      2.457584e-01\n",
      "dtype: float64\n"
     ]
    },
    {
     "data": {
      "image/png": "[encoded data removed]",
      "text/plain": [
       "<Figure size 432x288 with 1 Axes>"
      ]
     },
     "metadata": {
      "needs_background": "light"
     },
     "output_type": "display_data"
    }
   ],
   "source": [
    "results_ARIMA.resid.plot(kind='kde')\n",
    "plt.title('Density plot of the residual error values')\n",
    "print(results_ARIMA.resid.describe())"
   ]
  },
  {
   "cell_type": "code",
   "execution_count": 31,
   "id": "a9c56e26",
   "metadata": {},
   "outputs": [],
   "source": [
    "train, test = train_test_split(df,shuffle=False,test_size=0.3)"
   ]
  },
  {
   "cell_type": "code",
   "execution_count": 32,
   "id": "c92414aa",
   "metadata": {},
   "outputs": [
    {
     "data": {
      "text/html": [
       "<div>\n",
       "<style scoped>\n",
       "    .dataframe tbody tr th:only-of-type {\n",
       "        vertical-align: middle;\n",
       "    }\n",
       "\n",
       "    .dataframe tbody tr th {\n",
       "        vertical-align: top;\n",
       "    }\n",
       "\n",
       "    .dataframe thead th {\n",
       "        text-align: right;\n",
       "    }\n",
       "</style>\n",
       "<table border=\"1\" class=\"dataframe\">\n",
       "  <thead>\n",
       "    <tr style=\"text-align: right;\">\n",
       "      <th></th>\n",
       "      <th>Unix Timestamp</th>\n",
       "      <th>Date</th>\n",
       "      <th>Symbol</th>\n",
       "      <th>Open</th>\n",
       "      <th>High</th>\n",
       "      <th>Low</th>\n",
       "      <th>Close</th>\n",
       "      <th>Volume</th>\n",
       "      <th>Month</th>\n",
       "      <th>Day</th>\n",
       "      <th>Year</th>\n",
       "      <th>Hour</th>\n",
       "      <th>Minute</th>\n",
       "      <th>Second</th>\n",
       "      <th>Close_LogT</th>\n",
       "      <th>Differential_close</th>\n",
       "    </tr>\n",
       "  </thead>\n",
       "  <tbody>\n",
       "    <tr>\n",
       "      <th>0</th>\n",
       "      <td>1586995200000</td>\n",
       "      <td>2020-04-16 00:00:00</td>\n",
       "      <td>ETHUSD</td>\n",
       "      <td>152.94</td>\n",
       "      <td>152.94</td>\n",
       "      <td>150.39</td>\n",
       "      <td>150.39</td>\n",
       "      <td>650.188125</td>\n",
       "      <td>4</td>\n",
       "      <td>16</td>\n",
       "      <td>2020</td>\n",
       "      <td>0</td>\n",
       "      <td>0</td>\n",
       "      <td>0</td>\n",
       "      <td>5.013232</td>\n",
       "      <td>5.013232</td>\n",
       "    </tr>\n",
       "    <tr>\n",
       "      <th>1</th>\n",
       "      <td>1586991600000</td>\n",
       "      <td>2020-04-15 23:00:00</td>\n",
       "      <td>ETHUSD</td>\n",
       "      <td>155.81</td>\n",
       "      <td>155.81</td>\n",
       "      <td>151.39</td>\n",
       "      <td>152.94</td>\n",
       "      <td>4277.567299</td>\n",
       "      <td>4</td>\n",
       "      <td>15</td>\n",
       "      <td>2020</td>\n",
       "      <td>23</td>\n",
       "      <td>0</td>\n",
       "      <td>0</td>\n",
       "      <td>5.030046</td>\n",
       "      <td>0.016814</td>\n",
       "    </tr>\n",
       "    <tr>\n",
       "      <th>2</th>\n",
       "      <td>1586988000000</td>\n",
       "      <td>2020-04-15 22:00:00</td>\n",
       "      <td>ETHUSD</td>\n",
       "      <td>157.18</td>\n",
       "      <td>157.30</td>\n",
       "      <td>155.32</td>\n",
       "      <td>155.81</td>\n",
       "      <td>106.337279</td>\n",
       "      <td>4</td>\n",
       "      <td>15</td>\n",
       "      <td>2020</td>\n",
       "      <td>22</td>\n",
       "      <td>0</td>\n",
       "      <td>0</td>\n",
       "      <td>5.048637</td>\n",
       "      <td>0.018592</td>\n",
       "    </tr>\n",
       "    <tr>\n",
       "      <th>3</th>\n",
       "      <td>1586984400000</td>\n",
       "      <td>2020-04-15 21:00:00</td>\n",
       "      <td>ETHUSD</td>\n",
       "      <td>158.04</td>\n",
       "      <td>158.31</td>\n",
       "      <td>157.16</td>\n",
       "      <td>157.18</td>\n",
       "      <td>55.244131</td>\n",
       "      <td>4</td>\n",
       "      <td>15</td>\n",
       "      <td>2020</td>\n",
       "      <td>21</td>\n",
       "      <td>0</td>\n",
       "      <td>0</td>\n",
       "      <td>5.057392</td>\n",
       "      <td>0.008754</td>\n",
       "    </tr>\n",
       "    <tr>\n",
       "      <th>4</th>\n",
       "      <td>1586980800000</td>\n",
       "      <td>2020-04-15 20:00:00</td>\n",
       "      <td>ETHUSD</td>\n",
       "      <td>157.10</td>\n",
       "      <td>158.10</td>\n",
       "      <td>156.87</td>\n",
       "      <td>158.04</td>\n",
       "      <td>144.262622</td>\n",
       "      <td>4</td>\n",
       "      <td>15</td>\n",
       "      <td>2020</td>\n",
       "      <td>20</td>\n",
       "      <td>0</td>\n",
       "      <td>0</td>\n",
       "      <td>5.062848</td>\n",
       "      <td>0.005457</td>\n",
       "    </tr>\n",
       "  </tbody>\n",
       "</table>\n",
       "</div>"
      ],
      "text/plain": [
       "   Unix Timestamp                Date  Symbol    Open    High     Low   Close  \\\n",
       "0   1586995200000 2020-04-16 00:00:00  ETHUSD  152.94  152.94  150.39  150.39   \n",
       "1   1586991600000 2020-04-15 23:00:00  ETHUSD  155.81  155.81  151.39  152.94   \n",
       "2   1586988000000 2020-04-15 22:00:00  ETHUSD  157.18  157.30  155.32  155.81   \n",
       "3   1586984400000 2020-04-15 21:00:00  ETHUSD  158.04  158.31  157.16  157.18   \n",
       "4   1586980800000 2020-04-15 20:00:00  ETHUSD  157.10  158.10  156.87  158.04   \n",
       "\n",
       "        Volume  Month  Day  Year  Hour  Minute  Second  Close_LogT  \\\n",
       "0   650.188125      4   16  2020     0       0       0    5.013232   \n",
       "1  4277.567299      4   15  2020    23       0       0    5.030046   \n",
       "2   106.337279      4   15  2020    22       0       0    5.048637   \n",
       "3    55.244131      4   15  2020    21       0       0    5.057392   \n",
       "4   144.262622      4   15  2020    20       0       0    5.062848   \n",
       "\n",
       "   Differential_close  \n",
       "0            5.013232  \n",
       "1            0.016814  \n",
       "2            0.018592  \n",
       "3            0.008754  \n",
       "4            0.005457  "
      ]
     },
     "execution_count": 32,
     "metadata": {},
     "output_type": "execute_result"
    }
   ],
   "source": [
    "train.head()"
   ]
  },
  {
   "cell_type": "code",
   "execution_count": 33,
   "id": "4aa4264c",
   "metadata": {},
   "outputs": [
    {
     "data": {
      "text/html": [
       "<div>\n",
       "<style scoped>\n",
       "    .dataframe tbody tr th:only-of-type {\n",
       "        vertical-align: middle;\n",
       "    }\n",
       "\n",
       "    .dataframe tbody tr th {\n",
       "        vertical-align: top;\n",
       "    }\n",
       "\n",
       "    .dataframe thead th {\n",
       "        text-align: right;\n",
       "    }\n",
       "</style>\n",
       "<table border=\"1\" class=\"dataframe\">\n",
       "  <thead>\n",
       "    <tr style=\"text-align: right;\">\n",
       "      <th></th>\n",
       "      <th>Unix Timestamp</th>\n",
       "      <th>Date</th>\n",
       "      <th>Symbol</th>\n",
       "      <th>Open</th>\n",
       "      <th>High</th>\n",
       "      <th>Low</th>\n",
       "      <th>Close</th>\n",
       "      <th>Volume</th>\n",
       "      <th>Month</th>\n",
       "      <th>Day</th>\n",
       "      <th>Year</th>\n",
       "      <th>Hour</th>\n",
       "      <th>Minute</th>\n",
       "      <th>Second</th>\n",
       "      <th>Close_LogT</th>\n",
       "      <th>Differential_close</th>\n",
       "    </tr>\n",
       "  </thead>\n",
       "  <tbody>\n",
       "    <tr>\n",
       "      <th>24147</th>\n",
       "      <td>1500055200</td>\n",
       "      <td>2017-07-14 18:00:00</td>\n",
       "      <td>ETHUSD</td>\n",
       "      <td>189.15</td>\n",
       "      <td>194.84</td>\n",
       "      <td>187.31</td>\n",
       "      <td>194.72</td>\n",
       "      <td>10905.362740</td>\n",
       "      <td>7</td>\n",
       "      <td>14</td>\n",
       "      <td>2017</td>\n",
       "      <td>18</td>\n",
       "      <td>0</td>\n",
       "      <td>0</td>\n",
       "      <td>5.271563</td>\n",
       "      <td>0.014953</td>\n",
       "    </tr>\n",
       "    <tr>\n",
       "      <th>24148</th>\n",
       "      <td>1500051600</td>\n",
       "      <td>2017-07-14 17:00:00</td>\n",
       "      <td>ETHUSD</td>\n",
       "      <td>184.28</td>\n",
       "      <td>189.61</td>\n",
       "      <td>181.20</td>\n",
       "      <td>189.15</td>\n",
       "      <td>10822.592570</td>\n",
       "      <td>7</td>\n",
       "      <td>14</td>\n",
       "      <td>2017</td>\n",
       "      <td>17</td>\n",
       "      <td>0</td>\n",
       "      <td>0</td>\n",
       "      <td>5.242540</td>\n",
       "      <td>-0.029022</td>\n",
       "    </tr>\n",
       "    <tr>\n",
       "      <th>24149</th>\n",
       "      <td>1500048000</td>\n",
       "      <td>2017-07-14 16:00:00</td>\n",
       "      <td>ETHUSD</td>\n",
       "      <td>188.43</td>\n",
       "      <td>190.00</td>\n",
       "      <td>183.50</td>\n",
       "      <td>184.28</td>\n",
       "      <td>19446.509810</td>\n",
       "      <td>7</td>\n",
       "      <td>14</td>\n",
       "      <td>2017</td>\n",
       "      <td>16</td>\n",
       "      <td>0</td>\n",
       "      <td>0</td>\n",
       "      <td>5.216456</td>\n",
       "      <td>-0.026084</td>\n",
       "    </tr>\n",
       "    <tr>\n",
       "      <th>24150</th>\n",
       "      <td>1500044400</td>\n",
       "      <td>2017-07-14 15:00:00</td>\n",
       "      <td>ETHUSD</td>\n",
       "      <td>191.20</td>\n",
       "      <td>193.00</td>\n",
       "      <td>188.00</td>\n",
       "      <td>188.43</td>\n",
       "      <td>9557.896675</td>\n",
       "      <td>7</td>\n",
       "      <td>14</td>\n",
       "      <td>2017</td>\n",
       "      <td>15</td>\n",
       "      <td>0</td>\n",
       "      <td>0</td>\n",
       "      <td>5.238727</td>\n",
       "      <td>0.022270</td>\n",
       "    </tr>\n",
       "    <tr>\n",
       "      <th>24151</th>\n",
       "      <td>1500040800</td>\n",
       "      <td>2017-07-14 14:00:00</td>\n",
       "      <td>ETHUSD</td>\n",
       "      <td>191.00</td>\n",
       "      <td>194.00</td>\n",
       "      <td>187.47</td>\n",
       "      <td>191.20</td>\n",
       "      <td>16434.922050</td>\n",
       "      <td>7</td>\n",
       "      <td>14</td>\n",
       "      <td>2017</td>\n",
       "      <td>14</td>\n",
       "      <td>0</td>\n",
       "      <td>0</td>\n",
       "      <td>5.253320</td>\n",
       "      <td>0.014593</td>\n",
       "    </tr>\n",
       "  </tbody>\n",
       "</table>\n",
       "</div>"
      ],
      "text/plain": [
       "       Unix Timestamp                Date  Symbol    Open    High     Low  \\\n",
       "24147      1500055200 2017-07-14 18:00:00  ETHUSD  189.15  194.84  187.31   \n",
       "24148      1500051600 2017-07-14 17:00:00  ETHUSD  184.28  189.61  181.20   \n",
       "24149      1500048000 2017-07-14 16:00:00  ETHUSD  188.43  190.00  183.50   \n",
       "24150      1500044400 2017-07-14 15:00:00  ETHUSD  191.20  193.00  188.00   \n",
       "24151      1500040800 2017-07-14 14:00:00  ETHUSD  191.00  194.00  187.47   \n",
       "\n",
       "        Close        Volume  Month  Day  Year  Hour  Minute  Second  \\\n",
       "24147  194.72  10905.362740      7   14  2017    18       0       0   \n",
       "24148  189.15  10822.592570      7   14  2017    17       0       0   \n",
       "24149  184.28  19446.509810      7   14  2017    16       0       0   \n",
       "24150  188.43   9557.896675      7   14  2017    15       0       0   \n",
       "24151  191.20  16434.922050      7   14  2017    14       0       0   \n",
       "\n",
       "       Close_LogT  Differential_close  \n",
       "24147    5.271563            0.014953  \n",
       "24148    5.242540           -0.029022  \n",
       "24149    5.216456           -0.026084  \n",
       "24150    5.238727            0.022270  \n",
       "24151    5.253320            0.014593  "
      ]
     },
     "execution_count": 33,
     "metadata": {},
     "output_type": "execute_result"
    }
   ],
   "source": [
    "test.head()"
   ]
  },
  {
   "cell_type": "code",
   "execution_count": 34,
   "id": "b22eedf4",
   "metadata": {},
   "outputs": [
    {
     "name": "stderr",
     "output_type": "stream",
     "text": [
      "/Users/sagartripathi/opt/anaconda3/lib/python3.9/site-packages/pandas/core/frame.py:4906: SettingWithCopyWarning: \n",
      "A value is trying to be set on a copy of a slice from a DataFrame\n",
      "\n",
      "See the caveats in the documentation: https://pandas.pydata.org/pandas-docs/stable/user_guide/indexing.html#returning-a-view-versus-a-copy\n",
      "  return super().drop(\n"
     ]
    },
    {
     "data": {
      "text/html": [
       "<div>\n",
       "<style scoped>\n",
       "    .dataframe tbody tr th:only-of-type {\n",
       "        vertical-align: middle;\n",
       "    }\n",
       "\n",
       "    .dataframe tbody tr th {\n",
       "        vertical-align: top;\n",
       "    }\n",
       "\n",
       "    .dataframe thead th {\n",
       "        text-align: right;\n",
       "    }\n",
       "</style>\n",
       "<table border=\"1\" class=\"dataframe\">\n",
       "  <thead>\n",
       "    <tr style=\"text-align: right;\">\n",
       "      <th></th>\n",
       "      <th>Unix Timestamp</th>\n",
       "      <th>Date</th>\n",
       "      <th>Symbol</th>\n",
       "      <th>Open</th>\n",
       "      <th>High</th>\n",
       "      <th>Low</th>\n",
       "      <th>Volume</th>\n",
       "      <th>Month</th>\n",
       "      <th>Day</th>\n",
       "      <th>Year</th>\n",
       "      <th>Hour</th>\n",
       "      <th>Minute</th>\n",
       "      <th>Second</th>\n",
       "      <th>Close_LogT</th>\n",
       "      <th>Differential_close</th>\n",
       "    </tr>\n",
       "  </thead>\n",
       "  <tbody>\n",
       "    <tr>\n",
       "      <th>24147</th>\n",
       "      <td>1500055200</td>\n",
       "      <td>2017-07-14 18:00:00</td>\n",
       "      <td>ETHUSD</td>\n",
       "      <td>189.15</td>\n",
       "      <td>194.84</td>\n",
       "      <td>187.31</td>\n",
       "      <td>10905.362740</td>\n",
       "      <td>7</td>\n",
       "      <td>14</td>\n",
       "      <td>2017</td>\n",
       "      <td>18</td>\n",
       "      <td>0</td>\n",
       "      <td>0</td>\n",
       "      <td>5.271563</td>\n",
       "      <td>0.014953</td>\n",
       "    </tr>\n",
       "    <tr>\n",
       "      <th>24148</th>\n",
       "      <td>1500051600</td>\n",
       "      <td>2017-07-14 17:00:00</td>\n",
       "      <td>ETHUSD</td>\n",
       "      <td>184.28</td>\n",
       "      <td>189.61</td>\n",
       "      <td>181.20</td>\n",
       "      <td>10822.592570</td>\n",
       "      <td>7</td>\n",
       "      <td>14</td>\n",
       "      <td>2017</td>\n",
       "      <td>17</td>\n",
       "      <td>0</td>\n",
       "      <td>0</td>\n",
       "      <td>5.242540</td>\n",
       "      <td>-0.029022</td>\n",
       "    </tr>\n",
       "    <tr>\n",
       "      <th>24149</th>\n",
       "      <td>1500048000</td>\n",
       "      <td>2017-07-14 16:00:00</td>\n",
       "      <td>ETHUSD</td>\n",
       "      <td>188.43</td>\n",
       "      <td>190.00</td>\n",
       "      <td>183.50</td>\n",
       "      <td>19446.509810</td>\n",
       "      <td>7</td>\n",
       "      <td>14</td>\n",
       "      <td>2017</td>\n",
       "      <td>16</td>\n",
       "      <td>0</td>\n",
       "      <td>0</td>\n",
       "      <td>5.216456</td>\n",
       "      <td>-0.026084</td>\n",
       "    </tr>\n",
       "    <tr>\n",
       "      <th>24150</th>\n",
       "      <td>1500044400</td>\n",
       "      <td>2017-07-14 15:00:00</td>\n",
       "      <td>ETHUSD</td>\n",
       "      <td>191.20</td>\n",
       "      <td>193.00</td>\n",
       "      <td>188.00</td>\n",
       "      <td>9557.896675</td>\n",
       "      <td>7</td>\n",
       "      <td>14</td>\n",
       "      <td>2017</td>\n",
       "      <td>15</td>\n",
       "      <td>0</td>\n",
       "      <td>0</td>\n",
       "      <td>5.238727</td>\n",
       "      <td>0.022270</td>\n",
       "    </tr>\n",
       "    <tr>\n",
       "      <th>24151</th>\n",
       "      <td>1500040800</td>\n",
       "      <td>2017-07-14 14:00:00</td>\n",
       "      <td>ETHUSD</td>\n",
       "      <td>191.00</td>\n",
       "      <td>194.00</td>\n",
       "      <td>187.47</td>\n",
       "      <td>16434.922050</td>\n",
       "      <td>7</td>\n",
       "      <td>14</td>\n",
       "      <td>2017</td>\n",
       "      <td>14</td>\n",
       "      <td>0</td>\n",
       "      <td>0</td>\n",
       "      <td>5.253320</td>\n",
       "      <td>0.014593</td>\n",
       "    </tr>\n",
       "  </tbody>\n",
       "</table>\n",
       "</div>"
      ],
      "text/plain": [
       "       Unix Timestamp                Date  Symbol    Open    High     Low  \\\n",
       "24147      1500055200 2017-07-14 18:00:00  ETHUSD  189.15  194.84  187.31   \n",
       "24148      1500051600 2017-07-14 17:00:00  ETHUSD  184.28  189.61  181.20   \n",
       "24149      1500048000 2017-07-14 16:00:00  ETHUSD  188.43  190.00  183.50   \n",
       "24150      1500044400 2017-07-14 15:00:00  ETHUSD  191.20  193.00  188.00   \n",
       "24151      1500040800 2017-07-14 14:00:00  ETHUSD  191.00  194.00  187.47   \n",
       "\n",
       "             Volume  Month  Day  Year  Hour  Minute  Second  Close_LogT  \\\n",
       "24147  10905.362740      7   14  2017    18       0       0    5.271563   \n",
       "24148  10822.592570      7   14  2017    17       0       0    5.242540   \n",
       "24149  19446.509810      7   14  2017    16       0       0    5.216456   \n",
       "24150   9557.896675      7   14  2017    15       0       0    5.238727   \n",
       "24151  16434.922050      7   14  2017    14       0       0    5.253320   \n",
       "\n",
       "       Differential_close  \n",
       "24147            0.014953  \n",
       "24148           -0.029022  \n",
       "24149           -0.026084  \n",
       "24150            0.022270  \n",
       "24151            0.014593  "
      ]
     },
     "execution_count": 34,
     "metadata": {},
     "output_type": "execute_result"
    }
   ],
   "source": [
    "Test_y=test.Close\n",
    "test.drop(columns='Close', inplace=True)\n",
    "test.head()"
   ]
  },
  {
   "cell_type": "code",
   "execution_count": 35,
   "id": "942e0fa5",
   "metadata": {},
   "outputs": [
    {
     "data": {
      "text/plain": [
       "34492     9.49\n",
       "34493     9.83\n",
       "34494     9.99\n",
       "34495    10.00\n",
       "34496     9.55\n",
       "Name: Close, dtype: float64"
      ]
     },
     "execution_count": 35,
     "metadata": {},
     "output_type": "execute_result"
    }
   ],
   "source": [
    "Test_y.tail()"
   ]
  },
  {
   "cell_type": "code",
   "execution_count": 36,
   "id": "e11b54a3",
   "metadata": {},
   "outputs": [
    {
     "name": "stdout",
     "output_type": "stream",
     "text": [
      "1    0.000000\n",
      "2   -0.001558\n",
      "3   -0.002514\n",
      "4   -0.002043\n",
      "5   -0.001191\n",
      "dtype: float64\n"
     ]
    }
   ],
   "source": [
    "predictions_ARIMA_diff = pd.Series(results_ARIMA.fittedvalues, copy=True)\n",
    "print(predictions_ARIMA_diff.head())"
   ]
  },
  {
   "cell_type": "code",
   "execution_count": 37,
   "id": "b6b06d17",
   "metadata": {},
   "outputs": [
    {
     "name": "stdout",
     "output_type": "stream",
     "text": [
      "1    0.000000\n",
      "2   -0.001558\n",
      "3   -0.004071\n",
      "4   -0.006115\n",
      "5   -0.007306\n",
      "dtype: float64\n"
     ]
    }
   ],
   "source": [
    "predictions_ARIMA_diff_cumsum = predictions_ARIMA_diff.cumsum()\n",
    "print(predictions_ARIMA_diff_cumsum.head())"
   ]
  },
  {
   "cell_type": "code",
   "execution_count": 38,
   "id": "f78858ee",
   "metadata": {},
   "outputs": [
    {
     "data": {
      "text/plain": [
       "0    5.013232\n",
       "1    5.013232\n",
       "2    5.011674\n",
       "3    5.009160\n",
       "4    5.007117\n",
       "dtype: float64"
      ]
     },
     "execution_count": 38,
     "metadata": {},
     "output_type": "execute_result"
    }
   ],
   "source": [
    "predictions_ARIMA_log = pd.Series(df.Close_LogT.iloc[0], index=df.Close_LogT.index)\n",
    "predictions_ARIMA_log = predictions_ARIMA_log.add(predictions_ARIMA_diff_cumsum,fill_value=0)\n",
    "predictions_ARIMA_log.head()"
   ]
  },
  {
   "cell_type": "code",
   "execution_count": 39,
   "id": "6abac055",
   "metadata": {},
   "outputs": [
    {
     "data": {
      "image/png": "[encoded data removed]",
      "text/plain": [
       "<Figure size 432x288 with 1 Axes>"
      ]
     },
     "metadata": {
      "needs_background": "light"
     },
     "output_type": "display_data"
    }
   ],
   "source": [
    "predictions_ARIMA = np.exp(predictions_ARIMA_log)\n",
    "plt.plot(df.Close,label='Actual Close')\n",
    "plt.plot(predictions_ARIMA, label='Predicted Close')\n",
    "plt.title('RMSE: %.4f'% np.sqrt(sum((predictions_ARIMA-df.Close)**2)/len(df.Close)))\n",
    "plt.legend()\n",
    "plt.show()"
   ]
  },
  {
   "cell_type": "code",
   "execution_count": 43,
   "id": "f53a68c2",
   "metadata": {},
   "outputs": [
    {
     "name": "stdout",
     "output_type": "stream",
     "text": [
      "24147    189.934534\n",
      "24148    172.129325\n",
      "24149    174.052931\n",
      "24150    194.150458\n",
      "24151    192.019510\n",
      "            ...    \n",
      "34492    192.711958\n",
      "34493    202.449013\n",
      "34494    193.758606\n",
      "34495    187.118119\n",
      "34496    167.908006\n",
      "Length: 10350, dtype: float64\n",
      "Test MSE: 25741.871\n"
     ]
    }
   ],
   "source": [
    "from sklearn.metrics import mean_squared_error\n",
    "dates=test.index\n",
    "forecast = pd.Series(results_ARIMA.forecast(steps=10350)[0],dates)\n",
    "forecast = 10**(forecast+test.Differential_close)\n",
    "print(forecast)\n",
    "error = mean_squared_error(Test_y, forecast)\n",
    "print('Test MSE: %.3f' % error)"
   ]
  },
  {
   "cell_type": "code",
   "execution_count": 45,
   "id": "65156525",
   "metadata": {},
   "outputs": [
    {
     "data": {
      "text/plain": [
       "10350"
      ]
     },
     "execution_count": 45,
     "metadata": {},
     "output_type": "execute_result"
    }
   ],
   "source": [
    "len(test.index)"
   ]
  },
  {
   "cell_type": "code",
   "execution_count": null,
   "id": "0bcc1e42",
   "metadata": {},
   "outputs": [],
   "source": []
  }
 ],
 "metadata": {
  "kernelspec": {
   "display_name": "Python 3 (ipykernel)",
   "language": "python",
   "name": "python3"
  },
  "language_info": {
   "codemirror_mode": {
    "name": "ipython",
    "version": 3
   },
   "file_extension": ".py",
   "mimetype": "text/x-python",
   "name": "python",
   "nbconvert_exporter": "python",
   "pygments_lexer": "ipython3",
   "version": "3.9.7"
  }
 },
 "nbformat": 4,
 "nbformat_minor": 5
}
